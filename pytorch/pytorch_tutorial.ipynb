{
  "nbformat": 4,
  "nbformat_minor": 0,
  "metadata": {
    "colab": {
      "provenance": []
    },
    "kernelspec": {
      "name": "python3",
      "display_name": "Python 3"
    },
    "language_info": {
      "name": "python"
    }
  },
  "cells": [
    {
      "cell_type": "code",
      "execution_count": 2,
      "metadata": {
        "colab": {
          "base_uri": "https://localhost:8080/"
        },
        "id": "iV9z6-LY1SsL",
        "outputId": "9fcfe1a7-9ecc-4c12-eea5-852701ad4a2f"
      },
      "outputs": [
        {
          "output_type": "stream",
          "name": "stdout",
          "text": [
            "tensor([[1., 1.],\n",
            "        [1., 1.]])\n",
            "torch.float32\n"
          ]
        }
      ],
      "source": [
        "import torch\n",
        "\n",
        "x = torch.ones(2, 2)\n",
        "print(x)\n",
        "print(x.dtype)\n",
        "\n"
      ]
    },
    {
      "cell_type": "code",
      "source": [
        "x = torch.ones(2, 2, dtype=torch.int8)\n",
        "print(x)\n",
        "print(x.dtype)"
      ],
      "metadata": {
        "colab": {
          "base_uri": "https://localhost:8080/"
        },
        "id": "PwPabDS22FIH",
        "outputId": "48d61811-7290-4f6d-9b60-c27c11e67780"
      },
      "execution_count": null,
      "outputs": [
        {
          "output_type": "stream",
          "name": "stdout",
          "text": [
            "tensor([[1, 1],\n",
            "        [1, 1]], dtype=torch.int8)\n",
            "torch.int8\n"
          ]
        }
      ]
    },
    {
      "cell_type": "markdown",
      "source": [
        "converting tensors into numpy arrays"
      ],
      "metadata": {
        "id": "DsgbhCuD2Xj9"
      }
    },
    {
      "cell_type": "code",
      "source": [
        "x=torch.rand(2,2)\n",
        "print(x)\n",
        "print(x.dtype)"
      ],
      "metadata": {
        "colab": {
          "base_uri": "https://localhost:8080/"
        },
        "id": "mAF8UEFR2Lut",
        "outputId": "66a501ae-cf41-41d0-879f-b5a4068c01fc"
      },
      "execution_count": null,
      "outputs": [
        {
          "output_type": "stream",
          "name": "stdout",
          "text": [
            "tensor([[0.5630, 0.8772],\n",
            "        [0.1802, 0.9113]])\n",
            "torch.float32\n"
          ]
        }
      ]
    },
    {
      "cell_type": "code",
      "source": [
        "y=x.numpy()\n",
        "print(y)\n",
        "print(y.dtype)"
      ],
      "metadata": {
        "colab": {
          "base_uri": "https://localhost:8080/"
        },
        "id": "i4TTeYoA2hgd",
        "outputId": "6ca1acb0-66c8-497e-9e85-13044269b5f5"
      },
      "execution_count": null,
      "outputs": [
        {
          "output_type": "stream",
          "name": "stdout",
          "text": [
            "[[0.5630268  0.8772246 ]\n",
            " [0.18024701 0.91125053]]\n",
            "float32\n"
          ]
        }
      ]
    },
    {
      "cell_type": "markdown",
      "source": [
        "converting numpy arrays into tensors"
      ],
      "metadata": {
        "id": "La_3u29B2oMH"
      }
    },
    {
      "cell_type": "code",
      "source": [
        "import numpy as np\n",
        "x=np.zeros((2,2),dtype=np.float32)\n",
        "print(x)\n",
        "print(x.dtype)\n"
      ],
      "metadata": {
        "colab": {
          "base_uri": "https://localhost:8080/"
        },
        "id": "y3qXFXc-2rc-",
        "outputId": "1be99c08-8cfc-4630-f603-ba5c2abc4940"
      },
      "execution_count": null,
      "outputs": [
        {
          "output_type": "stream",
          "name": "stdout",
          "text": [
            "[[0. 0.]\n",
            " [0. 0.]]\n",
            "float32\n"
          ]
        }
      ]
    },
    {
      "cell_type": "code",
      "source": [
        "y=torch.from_numpy(x)\n",
        "print(y)\n",
        "print(y.dtype)"
      ],
      "metadata": {
        "id": "_Fm02fCU24S7",
        "outputId": "f7a90194-5ddf-4f1f-9c88-84eadb807883",
        "colab": {
          "base_uri": "https://localhost:8080/"
        }
      },
      "execution_count": null,
      "outputs": [
        {
          "output_type": "stream",
          "name": "stdout",
          "text": [
            "tensor([[0., 0.],\n",
            "        [0., 0.]])\n",
            "torch.float32\n"
          ]
        }
      ]
    },
    {
      "cell_type": "code",
      "source": [
        "x=torch.tensor([1.5, 2])\n",
        "print(x)\n",
        "print(x.device)"
      ],
      "metadata": {
        "colab": {
          "base_uri": "https://localhost:8080/"
        },
        "id": "z2knufflHMrE",
        "outputId": "5ec9a43e-7fd0-47af-82e4-b0d9a8c1dd20"
      },
      "execution_count": null,
      "outputs": [
        {
          "output_type": "stream",
          "name": "stdout",
          "text": [
            "tensor([1.5000, 2.0000])\n",
            "cpu\n"
          ]
        }
      ]
    },
    {
      "cell_type": "code",
      "source": [
        "if torch.cuda.is_available():\n",
        " device = torch.device(\"cuda:0\")"
      ],
      "metadata": {
        "id": "dRuF9VCL26Al"
      },
      "execution_count": null,
      "outputs": []
    },
    {
      "cell_type": "code",
      "source": [
        "x = x.to(device)\n",
        "print(x)\n",
        "print(x.device)"
      ],
      "metadata": {
        "colab": {
          "base_uri": "https://localhost:8080/",
          "height": 176
        },
        "id": "yy18f_R1GRmf",
        "outputId": "9bf6ad64-df45-4c02-8423-09b620a00233"
      },
      "execution_count": null,
      "outputs": [
        {
          "output_type": "error",
          "ename": "NameError",
          "evalue": "name 'device' is not defined",
          "traceback": [
            "\u001b[0;31m---------------------------------------------------------------------------\u001b[0m",
            "\u001b[0;31mNameError\u001b[0m                                 Traceback (most recent call last)",
            "\u001b[0;32m<ipython-input-13-90ea276dc63d>\u001b[0m in \u001b[0;36m<cell line: 1>\u001b[0;34m()\u001b[0m\n\u001b[0;32m----> 1\u001b[0;31m \u001b[0mx\u001b[0m \u001b[0;34m=\u001b[0m \u001b[0mx\u001b[0m\u001b[0;34m.\u001b[0m\u001b[0mto\u001b[0m\u001b[0;34m(\u001b[0m\u001b[0mdevice\u001b[0m\u001b[0;34m)\u001b[0m\u001b[0;34m\u001b[0m\u001b[0;34m\u001b[0m\u001b[0m\n\u001b[0m\u001b[1;32m      2\u001b[0m \u001b[0mprint\u001b[0m\u001b[0;34m(\u001b[0m\u001b[0mx\u001b[0m\u001b[0;34m)\u001b[0m\u001b[0;34m\u001b[0m\u001b[0;34m\u001b[0m\u001b[0m\n\u001b[1;32m      3\u001b[0m \u001b[0mprint\u001b[0m\u001b[0;34m(\u001b[0m\u001b[0mx\u001b[0m\u001b[0;34m.\u001b[0m\u001b[0mdevice\u001b[0m\u001b[0;34m)\u001b[0m\u001b[0;34m\u001b[0m\u001b[0;34m\u001b[0m\u001b[0m\n",
            "\u001b[0;31mNameError\u001b[0m: name 'device' is not defined"
          ]
        }
      ]
    },
    {
      "cell_type": "code",
      "source": [
        "from torchvision import datasets\n",
        "path = '/content/sample_data'\n",
        "\n",
        "train_data = datasets.MNIST(path,train=True,download=True)"
      ],
      "metadata": {
        "colab": {
          "base_uri": "https://localhost:8080/"
        },
        "id": "3Jfz_bZoJdGo",
        "outputId": "8d155edc-0d35-4104-8590-3e3d6c271995"
      },
      "execution_count": 1,
      "outputs": [
        {
          "output_type": "stream",
          "name": "stdout",
          "text": [
            "Downloading http://yann.lecun.com/exdb/mnist/train-images-idx3-ubyte.gz\n",
            "Failed to download (trying next):\n",
            "HTTP Error 403: Forbidden\n",
            "\n",
            "Downloading https://ossci-datasets.s3.amazonaws.com/mnist/train-images-idx3-ubyte.gz\n",
            "Downloading https://ossci-datasets.s3.amazonaws.com/mnist/train-images-idx3-ubyte.gz to /content/sample_data/MNIST/raw/train-images-idx3-ubyte.gz\n"
          ]
        },
        {
          "output_type": "stream",
          "name": "stderr",
          "text": [
            "100%|██████████| 9912422/9912422 [00:00<00:00, 59833392.21it/s]\n"
          ]
        },
        {
          "output_type": "stream",
          "name": "stdout",
          "text": [
            "Extracting /content/sample_data/MNIST/raw/train-images-idx3-ubyte.gz to /content/sample_data/MNIST/raw\n",
            "\n",
            "Downloading http://yann.lecun.com/exdb/mnist/train-labels-idx1-ubyte.gz\n",
            "Failed to download (trying next):\n",
            "HTTP Error 403: Forbidden\n",
            "\n",
            "Downloading https://ossci-datasets.s3.amazonaws.com/mnist/train-labels-idx1-ubyte.gz\n",
            "Downloading https://ossci-datasets.s3.amazonaws.com/mnist/train-labels-idx1-ubyte.gz to /content/sample_data/MNIST/raw/train-labels-idx1-ubyte.gz\n"
          ]
        },
        {
          "output_type": "stream",
          "name": "stderr",
          "text": [
            "100%|██████████| 28881/28881 [00:00<00:00, 1919650.31it/s]"
          ]
        },
        {
          "output_type": "stream",
          "name": "stdout",
          "text": [
            "Extracting /content/sample_data/MNIST/raw/train-labels-idx1-ubyte.gz to /content/sample_data/MNIST/raw\n",
            "\n",
            "Downloading http://yann.lecun.com/exdb/mnist/t10k-images-idx3-ubyte.gz\n"
          ]
        },
        {
          "output_type": "stream",
          "name": "stderr",
          "text": [
            "\n"
          ]
        },
        {
          "output_type": "stream",
          "name": "stdout",
          "text": [
            "Failed to download (trying next):\n",
            "HTTP Error 403: Forbidden\n",
            "\n",
            "Downloading https://ossci-datasets.s3.amazonaws.com/mnist/t10k-images-idx3-ubyte.gz\n",
            "Downloading https://ossci-datasets.s3.amazonaws.com/mnist/t10k-images-idx3-ubyte.gz to /content/sample_data/MNIST/raw/t10k-images-idx3-ubyte.gz\n"
          ]
        },
        {
          "output_type": "stream",
          "name": "stderr",
          "text": [
            "100%|██████████| 1648877/1648877 [00:00<00:00, 14318586.08it/s]\n"
          ]
        },
        {
          "output_type": "stream",
          "name": "stdout",
          "text": [
            "Extracting /content/sample_data/MNIST/raw/t10k-images-idx3-ubyte.gz to /content/sample_data/MNIST/raw\n",
            "\n",
            "Downloading http://yann.lecun.com/exdb/mnist/t10k-labels-idx1-ubyte.gz\n",
            "Failed to download (trying next):\n",
            "HTTP Error 403: Forbidden\n",
            "\n",
            "Downloading https://ossci-datasets.s3.amazonaws.com/mnist/t10k-labels-idx1-ubyte.gz\n",
            "Downloading https://ossci-datasets.s3.amazonaws.com/mnist/t10k-labels-idx1-ubyte.gz to /content/sample_data/MNIST/raw/t10k-labels-idx1-ubyte.gz\n"
          ]
        },
        {
          "output_type": "stream",
          "name": "stderr",
          "text": [
            "100%|██████████| 4542/4542 [00:00<00:00, 7304650.60it/s]"
          ]
        },
        {
          "output_type": "stream",
          "name": "stdout",
          "text": [
            "Extracting /content/sample_data/MNIST/raw/t10k-labels-idx1-ubyte.gz to /content/sample_data/MNIST/raw\n",
            "\n"
          ]
        },
        {
          "output_type": "stream",
          "name": "stderr",
          "text": [
            "\n"
          ]
        }
      ]
    },
    {
      "cell_type": "markdown",
      "source": [
        "extract input and target variables"
      ],
      "metadata": {
        "id": "eaMcGIBzKBNw"
      }
    },
    {
      "cell_type": "code",
      "source": [
        "x_train,y_train = train_data.data,train_data.targets\n",
        "print(x_train.shape)\n",
        "print(y_train.shape)"
      ],
      "metadata": {
        "colab": {
          "base_uri": "https://localhost:8080/"
        },
        "id": "g53Z1oxWKEiJ",
        "outputId": "417e5603-0a93-43e6-e92c-cffaa6ed30f4"
      },
      "execution_count": 3,
      "outputs": [
        {
          "output_type": "stream",
          "name": "stdout",
          "text": [
            "torch.Size([60000, 28, 28])\n",
            "torch.Size([60000])\n"
          ]
        }
      ]
    },
    {
      "cell_type": "markdown",
      "source": [
        "loading test data"
      ],
      "metadata": {
        "id": "pfMiMtDHKjx5"
      }
    },
    {
      "cell_type": "code",
      "source": [
        "val_data = datasets.MNIST(path,train=False,download=True)\n",
        "\n",
        "x_val,y_val = val_data.data , val_data.targets\n",
        "\n",
        "print(x_val.shape)\n",
        "print(y_val.shape)"
      ],
      "metadata": {
        "colab": {
          "base_uri": "https://localhost:8080/"
        },
        "id": "1o63-p_tKjEB",
        "outputId": "16961127-b647-4511-8630-d64499234364"
      },
      "execution_count": 4,
      "outputs": [
        {
          "output_type": "stream",
          "name": "stdout",
          "text": [
            "torch.Size([10000, 28, 28])\n",
            "torch.Size([10000])\n"
          ]
        }
      ]
    },
    {
      "cell_type": "markdown",
      "source": [
        "changing dimension"
      ],
      "metadata": {
        "id": "br4RLeEeLeMk"
      }
    },
    {
      "cell_type": "code",
      "source": [
        "x_train = x_train.unsqueeze(1)\n",
        "x_val = x_val.unsqueeze(1)\n",
        "print(x_train.shape)\n",
        "print(x_val.shape)"
      ],
      "metadata": {
        "colab": {
          "base_uri": "https://localhost:8080/"
        },
        "id": "AvNHZ4OwK2_L",
        "outputId": "ef51e9d1-3e43-4dc2-e3c9-8c0ab504710e"
      },
      "execution_count": 5,
      "outputs": [
        {
          "output_type": "stream",
          "name": "stdout",
          "text": [
            "torch.Size([60000, 1, 28, 28])\n",
            "torch.Size([10000, 1, 28, 28])\n"
          ]
        }
      ]
    },
    {
      "cell_type": "code",
      "source": [
        "from torchvision import utils\n",
        "import matplotlib.pyplot as plt\n",
        "import numpy as np\n",
        "\n",
        "\n",
        "def show(img):\n",
        "  npimg = img.numpy()\n",
        "  npimg_tr =np.transpose(npimg,(1,2,0))\n",
        "  plt.imshow(npimg_tr,interpolation='nearest')\n",
        "\n",
        "\n",
        "x_grid=utils.make_grid(x_train[:40], nrow=8, padding=2)\n",
        "print(x_grid.shape)\n",
        "\n",
        "show(x_grid)"
      ],
      "metadata": {
        "colab": {
          "base_uri": "https://localhost:8080/",
          "height": 393
        },
        "id": "4I96frEOl3RC",
        "outputId": "f202b505-22c6-40ef-9bdb-91cbc10ac81c"
      },
      "execution_count": 6,
      "outputs": [
        {
          "output_type": "stream",
          "name": "stdout",
          "text": [
            "torch.Size([3, 152, 242])\n"
          ]
        },
        {
          "output_type": "display_data",
          "data": {
            "text/plain": [
              "<Figure size 640x480 with 1 Axes>"
            ],
            "image/png": "[encoded data removed]"
          },
          "metadata": {}
        }
      ]
    },
    {
      "cell_type": "markdown",
      "source": [
        "Data Loader"
      ],
      "metadata": {
        "id": "0YFfU4H3vxay"
      }
    },
    {
      "cell_type": "code",
      "source": [
        "from torch.utils.data import TensorDataset\n",
        "from torch.utils.data import DataLoader\n",
        "train_ds = TensorDataset(x_train,y_train)\n",
        "val_ds = TensorDataset(x_val,y_val)\n",
        "\n",
        "\n",
        "train_dl = DataLoader(train_ds,batch_size=8)\n",
        "val_dl = DataLoader(val_ds,batch_size=8)\n",
        "\n",
        "for xb,yb in train_dl:\n",
        "  print(xb.shape)\n",
        "  print(yb.shape)\n",
        "  break\n",
        "\n"
      ],
      "metadata": {
        "colab": {
          "base_uri": "https://localhost:8080/"
        },
        "id": "x3FPdjYKqArp",
        "outputId": "5189a17d-0af5-4a95-d9c9-577bdcd18cd5"
      },
      "execution_count": 7,
      "outputs": [
        {
          "output_type": "stream",
          "name": "stdout",
          "text": [
            "torch.Size([8, 1, 28, 28])\n",
            "torch.Size([8])\n"
          ]
        }
      ]
    },
    {
      "cell_type": "markdown",
      "source": [
        "Building Model"
      ],
      "metadata": {
        "id": "agz85gZdySeP"
      }
    },
    {
      "cell_type": "markdown",
      "source": [
        "![image.png](data:image/png;base64,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)"
      ],
      "metadata": {
        "id": "edYGFGTbyNtm"
      }
    },
    {
      "cell_type": "code",
      "source": [
        "from torch import nn\n",
        "model = nn.Sequantial(\n",
        "    nn.Linear(4,5),\n",
        "    nn.Relu(),\n",
        "    nn.Linear(5,1),\n",
        ")\n",
        "\n",
        "print(model)"
      ],
      "metadata": {
        "id": "0SX0fwP5xb1C"
      },
      "execution_count": null,
      "outputs": []
    },
    {
      "cell_type": "markdown",
      "source": [
        "![image.png](data:image/png;base64,iVBORw0KGgoAAAANSUhEUgAAAfsAAADeCAYAAAA6nanjAAAAAXNSR0IArs4c6QAAAARnQU1BAACxjwv8YQUAAAAJcEhZcwAAEnQAABJ0Ad5mH3gAAGDFSURBVHhe7b0JdBTXlf9/hdCK2MS+g9g3AzbYgA228W68xY7t2BnHNolnJskkmcwkZ+ZklnMyZ+Z35kz2ZOZvHyfe8IaNV7zgDS8YvAAGzL7vIIHEIoQAgST+7/O6nyiK7lYvaqm7dT92Ueqq6uqqV++973333fcq64xBFEVRFEXJWNoE14qiKIqiZCgq9oqiKIqS4ajYK4qiKEqGY/vsy8rKZP78+dKpUyfp06dPcJeiKIqiKOnK3r175ciRI3LDDTcExP7hhx+WH/zgB8HdiqIoiqJkCo888khA7OfMmSP33HOPDB48WKZOnRrcrSiKoihKuvLZZ5/J1q1b5YUXXgiI/eLFi+Wyyy6TWbNmyWOPPRY8TFEURVGUdAVNf+KJJwSN1wA9RVEURclwVOwVRVEUJcNRsVcURVGUDEfFXlEURVEyHBV7RVEURclwVOwVRVEUJcNJG7E/oy/nUxRFUZS4SGmxR+BV5BVFURQlMdKiZY/g19XVNYi/GgCKoiiKEj1pIfZM5v9f//Vf8vjjj8tTTz1lJ/ZXFEVRFCU6UkrsQ7XY9+3bJ0uWLJGbb75ZLrzwQjl27JicOHEiuFdRFEVRlMZIKbHPysoK/hUQ/l27dsn69etl+vTpsmfPHrtt5MiR0qZNWjgkFEVRFCUlSEnVRNQ3b94su3fvlsmTJ0t5ebkUFRXJsGHDzjEIFEVRFEVpnJQU+7Vr18rhw4dl3Lhxtr+elnxxcXFwr6IoiqIosZByYr9y5UqpqamRUaNGWTd+YWGhdO3a1e7TVr2iKIqixE7KiD2u+2XLltk17vodO3ZI586d7eJgn6IoiqIosdGiYo94u4WI+7Zt28rQoUNl27ZttjXfoUOHhta8Cr2iKIqixEdKtOy/+OILycvLk8GDB8umTZukZ8+e0r59+/Oi89WNryiKoiix0+xi723Nw2effWYj7UtKSmTLli3Sr18/adeunRV2d4z3eEVRFEVRYqPFWvb19fWyaNEi6dixoxX47du32zUBea4F79anTp2SyspK+7eiKIqiKLHRImJfW1trW/Tdu3eX3r1726j7Pn36SEFBQfCIc6FVf/LkyeAnRVEURVFiIeli73fBnz59Wj7//HPp27evdOvWzY6jR/Dz8/ODR5xPdnZ28C9FURRFUWKlWVv2tM4R+oEDB9pIe6bAdS36SMF3Oj2uoiiKosRP0lUUEWc5fvy4FXoi7umXp0VPHz1R+OFwHgEVe0VRMhG/51NRkkWzqChvqlu8eLGdLAdx5012/fv3l5ycnEYzOi78SK1+RVEURVEik3SxR+iJuh89erSdNKe0tFQGDBhghd61+iOh/fWKomQSzA763HPPyaeffmrf6nn06FFt4StJJ2liT8atrq6Wjz76SCZMmGBFe//+/Vbo+TuajI0hgIGQaWihVpTWhSvzNHboziQomYnDeKPne++9J3/5y1/kiSeekDlz5sgrr7wiH374oTUEqEP5rtYZSqJkmUx0Bhf7ZZddJrNmzZLHHnssuCsxCMZ7++237bvoicAnUw8aNOiclnykVj2Zm756+vcPHjxoZ9m74oor5Msvv7QvyWGWvVTnxIkTNg169OhhJw3imrknV3Dd/XsLcmOeDkVR0hMCkr/66iu56KKL5NChQzZ+CSj/LHV1dXZYMi8C462fFRUV9jtVVVXWE8qSm5trpxJnGTt2rHZzKhFB0zEi0fiktOwR+tdee02uuuoqOyEOmRaxiyVTcqzXA5BOGZpr5r7pvqBwMsRw48aN8swzz8iTTz4pL774ol1effVVa8RgCFHIWZhsyCv+iqKkP8wlsnz5cttgCeWtpH5DzBmZ1KlTJztiaeLEiXLbbbfJfffdJ3fffbd84xvfkBkzZliPwO9//3ude0SJiSYXe/qf3njjDbnpppusRYoFi9A7yNRuaQwKRTqIvLPM3d8I/cKFC2XIkCHSq1cvO6fAxRdfLHfccYfceeedNm1mzpwpl156qS3YvNb3hRdekLlz51oXHoYAxtLSpUvlwIEDNk0ZzYAx4DUEvL/rJdQ2cMeH+56iKE2Dt4wxOyhlHKF3LfHG6jV3jFvwCPJdWv0YDjfccIPd1th5FMXRpGJPCxV3wfXXX29FHrHHde+INWOmw5A7CrQrkEBh/Pjjj2XMmDHnvJ7X4SoAjucdAAw/RPSx4G+99VZbiFkmT55s3xmwYsUKeffdd2X+/Pkyb948awhgTNFKoP+PLg7Sma4S77kjEetzUBQlPrZu3Spr1649R+gd/vLqPoeDmCfKPR7TSEOWFSUUCaspGZSFvqXVq1db4UKA6K9meJ2XxjKzFwpGOuAtqC4gcfz48dbVFgrv8d708FYC3DtCT/qRnog/BtR1111n17j3KOzr1q2z0w5/8skn1gDAEMAowEAg4pchjkeOHLF9gcBveH9HUZTkQV3w8ssv26BkGj/UieHKfGNlk3lJMBqmTZtmZxuNpS5VFEg4QI9Mt3PnTtm9e7dccMEFtn+efmeiTb24zBmt2NDX7dz4GA8E5l1++eUpG6BH65p0vPDCC22LHWht8ya/kSNH2s9evIXVmyb+7dGmG8fh5sfdT3AP7n+6E3gWDH9kTZcB7yPg+jAWeAkRMxly7sbOryhK9FAe//znP9syR5mkDLpySPmjbqNeYD8LZdE7Zbi33OO2x0OA4U+9CETwY/wTwKwo4fAG6MUs9i4TOsiEuJdwW+PGJ3MSfZ6oeJDxXZ9UKos96YHQM5yGIYZO6CGS2IO3QDtCbUsUzonwE9CDIcDCZxZa/vxWcXGxXahMuIcuXbpY70QsXSn8TlNet6KkM8Tf4L73utzp5qNhtHnzZivUlD8W3upJ2XHCz5oySB3Cfupnb2Cfir0SDU0m9kSY455C6Ok/JlMzJCTRCp/ve+fLT1WxJy0InkPoGU7jL3iNiX1L4p4ja64TQ4BKhdYHFRJrPtOlQOwB3QoYAlRCGHN89sO5wj17b75JNH8oSjoQSuyBsoXnzRu4TPnAzU994gwAjqEr7qGHHjovGE/FXokGr9jH1WdPpmPCByf09Cchzk7ovRV7LPA9lnTpr8caZ+gcfejcf7z33Vx4r4/nxEIl4lz69C0y0yFdEcyPwKiBq6++2j5jWhkcSwVEACLDCBk9QPAgn0kHoo7DDQdyv8eiKK2BxvK6vzxSh2BIDx8+3Abo3njjjbYR5urDVK9flNQmLrFfs2aNtTwRAVxStPJwAZNhyZDxVOguI/NdMnc852hO8DYsW7ZMJk2a1OCFiPe+vUsyieb6vNeAuNOax51PDMbQoUNtXAatFUYOYAgQjIiRQB7AECBA0BkC/E0LhCBCAgbxIChKayJSmU71Ok7JLGISezIuEaH0UTN7E4EjuHVx87qM2xQZGJFJtvAlAjEKX3/9tRV6v4su3Qn3/NjufcbOEEDkCfpjiCV54tprr7WGAGvShy4MDEG6eZhE6Omnn7aGAPMIvPnmm3ZaUEVRzpYxV87AW+a82zMF6nl/XZ/KdX86E5PYv/7667bPnNmdaKlRiSP2kOgDchkZEYFUzdj0oTHkDSHDA9EU9+1dUo14rotnSDARHg/yCJMK4RHALcksYAwfxDvAfrwjEKrQK4oSmlSsK+IhVeu9TKRRsfdWwLTqcen+7ne/s2JPP6+jqR5YqrrwSQeGGBJFy2x4qW6UpBqkn0sr1uQlDAE3FwPbNC0V5VwytUwwBJFFaT4aFXtvZiMCntYZ8zTTKnM0HINdYJZ42mfOqEjV4DyGGDJxEFH3juYuiOna8iWdXFpxD0wdSsBfrO9LUBQl/aEOIJ6HkV905zGaiS5h5mhhNAKxPdHUdelaH7YUMbnxHaESmS1nt8b+EKj0aS17haGl4T5ZNmzYYOcQwBWt4hQfpCOT/hDrQB8/rn1FUcKTqXUN7/FH0InrYW4SGo50jRK/w1tCmQl09uzZttuYUT40tBjxxfwgGuQbP3GJfYAQgk7ezDpjVudKf7Q4sU8li40hhgyxY+SBc923JC5tUimNogGhX7VqlfUO+WdXVBQls6G+wm3PMF1m7Rw2bJiN68HDxwvDmAaYl4PdfPPNNq6H9bhx4+zkaoj9kiVL5IMPPpDnn3/eGgJ4BJgiXImeBFv2ZwXH6nzDX5w2NquUc6aaCx9rk6kumcQnFYQ+XWGmPoS+T58+9i2A6h1RlNYF7+dA6HndN+LuoC4IVR8wyoljGe47depUueaaa2wX8u23326NAvSCYHElehJQMPOAIrUu2WWXCMd44IGnitiTkZhLgBmtRowY0SD0bD9r6LQMrmCki2AyGx9CTyAeE4Y40uX6FUVJDIx9hB6PHiO5Yi37HO+t9+gKpBuQRpgSPQk2VwNfJ6Zyx55S+eKrlbJt+04jiOc+TCeSkYTS21/vHmxLgKuJt/fhdkbovdfS0tfWkr8dD8ymRzAegXjMruhweSHd7kdRYqU153HKOHUAb/9j4i1e5+3FpY2rD1giwf5FixbZUTypOAV5qpOY2JtnxeMpO3RUXnx7gSxevFQWvPWuPPr738u65V/JGSOcZ3igUWT4lh5yR0bC1YQ40ZeE+0jFKD5IS6x5xtBjMFE43XZFUVoHNJx+85vfWHc7XaK8S4XXgLt6IFz9yn5/XcG5Fi5caFv03m4AJXoSEnta9KWHq+TDpatlWMkwmTZ2nEwff5FcMXqs5FZWyrwnHpf3X35J9m7banvwI2lnS/aJu4xFEAjzCGCFphuhCkhLgVcEC5xIW4JxgIKtxpOitB4QaALxvv3tb1uDH7F/8skn5be//a0ddvfII4/Y9YIFC2wQHl1+Xlx9Rn1CNwCzdLpuAJZUqe/ShbgU1gqLke99FZXy0dI10qe4mwzMz5FCI9hFhe2kMDdHRg0YKHdccaVcOXK0VKxdJ68//ph8+Po8qaqosC1+cxKznH2giH3gb7c0L1iNLlLcXZNdx305cX8xLrxiap9P8B6aGwomUbO8wMP7ul9oqWtSFKVlINCOepWXa91yyy3ywx/+UH7605/K/fffLw8++KDcdtttNiKfrtNHH31UfvWrX8mvf/1ru2AIvP/++3ZabYwGNwEXaF0SO3E3p7fv3S+fLF8n/br1lF7ZIjlG2ApNqxiBs614s2Qb8SkyD/uSUaPlzitmyOSSEvnqnXfk7WeeliUffSQnq4+Zh1YfwoXPg2ye2ZVclChWI+O/vZx7TelDS103IxcYK3vDDTfYefPBey3ub9bpmraKoiQGDTu6SjEEEHo8gAy3+/GPfyw///nP7fKzn/3MRt4zBp/AXv+8HFp/xE5cYn/yVK08+dwL8t4br8v855+Usr075WRdrRVOxtgj1bZ1GTg8gPncqaBQrpsyVW67dJqUFBXJwrkvyQcvvCAbV66UY0eP2mMCX+aykv8wCR5hrKZ7P7trEbuMFLiHwH+xwzlaLkN6C0NzWMHMfEUf/YwZM4JbgunXDL+tKEr64+oLV2fg+scQ8Ab3KvETX8veWGbTZ1wjN15zjQzu3dvOMPfOe+/Ksy88J+9/8qFs2b1byiuPSG19XUC7A99qgB/t06Wr3DR9ulw7cZLkHDoki15+WebPmSNb16+X6mNV5oGbg5IsFPTRb9q0SVasWCHz5s2TOeb3cRkxfSN9SGVlZfZVvtFO39haOWSeHwE4U6ZMsRa7Q1vwiqJES2P1hd8YUGIjPrE3z6POPJScnHwZMqhErr/2evnmHXfKt+7+lgwZWCK7d+2St957Tx6Z/ZS8/O58WbZurZQerDDiX98g/iw81rw22TJywEC59pLJMm3ESDlsDIdPjfAveOUV2bFls5wiaIOHy/8hHnIiD57ZmZi5iX6jO++80y6XXnqpdefzbnb6kXgXO4bACy+8YAyBt+z0jQSaMJcz77Q/dYqgknOvgU+NXZU303rvwbu9qUiG4LrrZBrhbdu22T65nJyc4F5FUZT40EZCcohT7D0PouHPNpKbnSODjXDPMIL5nbvvlu/e9x0ZN3KUVB0+LB8uXCiPPDNb5rw5Tz5d/pXs3l8WEH/zfbQty/zTLi9PLhw+Qq6ZNEkm9O0rZctXyvvPPy9LP/5YKo2xcKauLnCwh8ClNE3/Pq1SXEeDBw+WyZMnN8za9M1vftP2KU2dOsUaAris3RSOr732ujEEXrQegcWLF9sJZLaZfQfN9dbVnT+Pc2NCnk4Znff67969205r6froI5EMQ0ZRlNSlKesyVze6c6ZLPZkqxCf2wf5oW3Gb/5FaqnCX9Jw022wozG4rQ/sPkCsvvUzuvf0OeeivviNTLpxo9tXLYtNCfnj2k/KsEcsPPl8s20v3Sa0RcyMH5jxZ0rmovVw8erRcO3GijOxcLO2qqmTBiy/K1tWr5MihQwHRD/7+2V9uGrgvb0biM8EknTt3thPE8C573sd++RVXyh133iW33HqbTJk61U4HW2cMmNLSUvlq2VfyyiuvNkSTEu3/1Vdf2Vfk4hFwotcS4sdvJvK7fJd7pJtj7Nix57ToW+J+mpNMvz9FUTKTOMU+AOMoHfW1pyXLfkauqRDPVorIJj+Un50tA3v3lqkXTZK7brtNHjIt/6svu0w6te8gS40Q/n9PPSmPG0F/46MFsm3XTmtEtMlqI92MyE4YNkyuvmiiXNinr+z+8kt56+mnZalpSR8/dizwU01YB4e1HM1n91Nlh47IJyvWyMfL18jSdZtlR9lBOV6fLR06d5Mhw0fI5VfOkDu+eZdMN0bBpcbYGTSoRPLy823/9tKlS218AG93whAggp3uAeIHeOmON12TTTzCz6t+6ebg5UCuj96dJ9OtbZ4N3RZMGqTCrygtB3WNlsHoiUvsvdV5fVAA21iBik6k+D4t/3zT8u/dvbtMNK3DO2++Rf72/gfklmuulZK+/WTFmtXyh8f/Io88+4y8+t67smvfPslu00Z6dukiUy64QK4w3+ly8qR8+tJceW/ui7Jq+TKp8wXSOQHy/x0z5oLPmHvLOmPuz5yirOKI7Kyokq79h0i/4WOk+5CRUtCzn9QWdpLKrALZefS0fLlppyxcud4cVynbysrlyIlTkteuvQwaMkxmXH2N3H3PvXKLMXimX36FjBo1WjoVd7bBgHQF8GYnjIHXXn/dvveZbRgCx4xhE+898C33TQpJrKLs0m/nzp3WM0GLHqF354nmnPH8bkviT2s+My83MRyvvPKKnSBk7ty51mB75513bGAnhhCjUvzE+9wUpbUSTZlJp/qkpckyCXoGMWESlFmzZtmJDMLBvrvvvltWrlknry9cJmMGlkhx/SkZ0H+gnDp5XOi1LWzbRuqqDsngfkxOE/gehHoobAs1cx5fY6mrr5PqEydkX2mpLPryC6mqPmE/9+/bRyZfdKGND+AcJ2tqZJ9paW7ctUvyiotl+PjxMnDw4AZxCxD4lJV19vfoc6di5j31kbCZzlx+1pks2XvwsOw+dEw69+ojR6uOSceOnew+zu/ul2vCBKqvrZOqo0elfVE7G9F/2rQGa06ae6gyrfdTpyXPpFV+Xo7ktMmSwrxcKe7UUTp36mRPV1t7WmpP18pJk668xxmPAK5z4gWYl4A+chdj0Kd3b+nXr7/kmnOEwxUc/3MIt90Px23fvt0aHLTo7T028h0voX6HtMeYIU+lEuHShKGFTBpEujMNMK187oFWPnMMkDYYQgRvsp1JhTiWhVgPZv9i7c/zkZ4B+2JJZyV1ePXVV+Xyyy+3XYBeyCd4xugSDIXLD+QvgoFDvfCF7kHeB19YWBjcknpQ52EEe4fjOmg00C3qZtgMBelAudpnGnpMX+6FfRjd9957b3CLEgo0/YknnrANxvjEfu16ef2TpTJm0GAprquRvn36WTd+nRGm7NMn5ETFfinKzwtUVGbJNZm9XWE7KWhXaCdJIPNTgVHpuYrMrW02D2Z2s9GumEaxwlSivPKwdP9+OXX6lKwxLd2tO3fYAtG9a1eZMnGilBjxP2n2bTaitKu8QtqZivXiy6ZJpy7FDedChp04L1my1MYJXDD2gsCmwCHnwX3w/dLyw7Lz8DEp7tMfaZeqyqMesQ8eZwjcixH7unqpNgW7fYeOge38EzyXufBAcKL5fQTktLnH48er5VjlEaOCpyTfCERuNkGPWVLUrkC6GlHvYCctMt8xRlC9WWpOnrRGgAuUo2CQphgDeTm50tWkV/8B/W0sgXfiIrcGd81evPuBY4g1oPBS8fj3R8O5aRMgXcSez8zvzVwMTO6xZcuWiC/i4HgWZwzw9kS6Z/bu3Wtb/kAlzX5GhPB8mO+7kzH0wP0ua84TT3orLY+KvYp9S9MkYv/aJ0tkTImpoGqOS8+u3aTItCpz62olX05Jr67F51SUtHyo8HhwdjGtWyPzVpjYDwR5kXHzjTFQUJBvWrz59hwsZBpaTL169ZDy8oNGYDtKnjnGVIfWOCg3+z5fvlS27Nhpp+JF/CeY1nq3Ll1l7ZZNctwc19W0fC+85BLJN79hW1ZZiL1pqSH2wZZ9uCqVa9yxe58s37hN+g4dKXmmxcb1VtOypyVuWuZnMX8HP1JYOaZ9R1+G5qLdVwK378FU7sG/2Fd7usaK+rGqo1JtWvVtjMjn5WZL22yRPGMMdDDX0tUUGowoLsOKvUkzDIeKigpbUChYGBTOuCKdmagC4WKNIcDidcs7uHcqHLYzZSX4j2kM94z930tVsffCM2T4pUsv0hHDJ9LrNcPdrxeOYeHFIORtvCYYbeQrxIG04TkxRSjvauD5umfknqM7DzT2W+x363A0tl+JjXjF3kEeyASxv/LKK8/LV4mKPbz++usq9o3QNGL/8RIZOWCQdDh5TAb26C4dcrKlKPuMEdjOtjXvCFd5sN2KroGHSsY4iUFgFgwDZrdjO2AsUEBo+XAcrmsyCa5sKsA2RvTatDEtVyviWXLgYLl8tXqV7Ny9R06YFnNxp852fubDVVWSbyrtYWPGSInJPGvXrzeV+RkZO65xsf9ixSrz3T5SU5dlKuhjcqrmpL1GXOe00AsL2klB0Fhpayps25I2/x03lXlA7D1n9/6QSyr/j3NSdrrt9rjAwXbPmXrbLcB1MPsgUw+3kXrJM1YAox1yzbpD+3bSxdx7Tk5baWssgZygmB87ViWHjMBQiBAYBAwQNmcI0NqkJbtv7z5zbwVSYt80FZ8YuOfo/26qiz3pgtD36tXLvjPBbUPsk/WKTZdW1lA0eQeDbceOHbb7xhljXAMvbMIQIF87A4GFY/y4czo4R6hnwrZ4nq8SGhX75Ik9+7Rl3zgJi/2Ktevkxbc/keEDBkqvrHop6dZJurUvlG6dOxohso7yRjhjo+ytOIfDU0Eh9lR6iDzDvajc6s/USY0RujP1WbZixK1dW1sn2UbkcI1SwHLz8iUnN0cOHjkiazdvkr1G2Kqrj8tRU9gKTCarMb9/6YwZMumSyeb4XGq+4C+ez+fLv5ZO/YdKdkGR+RRolVEB42Xg9zFUrLFiRLf21Gkry7Ums9fUnJbOxZ0kL7/AGAL55voCfbi24vbfv/f33e2zKfi358/ABwPXAe6b+DrOGAPmFL990lyPMXBOm3VbYwi0NQdlmXTLM+LfqX2RFYy2xijJMWmWZwwnvkuMweHDgfgAgtG4P95a1fA7cYhBuO+mstiT5ygXTlAdyRb7UPjTj0rUeQTovsHoxLjkmrk+KlGME8oLZYXYAUSBY7zn8p/XfYZ4nrNyLir2iYk9kM9V7OMnIbG/66675Ou1a+X//fqPMnroCCk4dUL6dekoPUyLvo15oDxU3MimurCC3sa0KF1MHPsIcmMMQNs2tFKC21jcfha+47aZ/6jA6POkxVlphLu9ySAIeuD4NpLN8Rxrzovwnj5VKzW21VtjM5w1BkzmYAx8nTnXoaOVsr20TEoryqV7337StXcf6dOvn4wYNdL+Bl0IFk4aBLHv2H+ItC0M9pub8x2trDJiaDKrOY7Pgauwe+2/eA2qzHVjcDhjgHupN4WY68KzkWdazXn5eaZSzrWeCipnFu6LuADzhz1X8JQWttvfYheHBFaePwzBrwU+n/0y3Ry1Jm3oGmDYYv3pGusRyDLGEoZAvvntTh3am9Z8vmzasF4OHzooM2fOtCMhOE/gHs+eLxpIG+B5eUlVsUc0P/30UxtQx3sTvNcdrdiHu+emxOY5z/n57AwBjGO8NnxmOwIDvHiEIEG8NpQhKlv+dl42pelQsVexb2kSbtmvNxkQN/CggYPMukJ6mZYPDxNRRUzqz9DSNpJUF/zbLHa72cYxGABt2+bYbTw0XNK0RvnbCbN5nHYb3z1qBHP9unU2kG69EaC+/frbqHXzhcCx9rv1dm0/N/wm52OpC/yOWXP+OrONjLhz107p3qOndO7azbb+D1cekcuvvEKGDBocuGHyZ6DOls9XrAq27ClcgVaRa9lzHJ/9GZrfauiz57LsVgTTrqS2vlZOnaRP/oRdIyRcV41ZaPnn45YNGgD5xETw2aSb+SF3Wef+ptsInms3d95wHNdpMZ+z7J9nv4QRYr0RxhCoOV4tW9atkoPlB2TipEmSbb6Xl58jHdu1tyMIcs31FRgjBaOAU3N2ez7P5YD7Pfv77qeCx9TVGrF/J7XEHqH/6KOPbHwCouh/rqkm9tDYb3AcizME8AgwwoN74X4xpBF7DF28AYgTBgB/s070HvzXyedkpkuqoGKfPLEH7bNvnITFnhffMCacF5/Ew9nWqycDOCEIAZUT0dAUHNZkfq9rNTQRThgkMPSu/uzQu1D1T/A0n69wbnze0X6+2IfiHLEPhz3/udfKJ4bd1Z6qCXgnWJuCY/voT9dJQWGB5OYGDQEjungOSE/ctIGLMWcgbb2nDW5G+AMfgxcdXJ1TAdtD6mXTmtWmdXhApl15lTWeTjMc0Bglp05WS70RijN15prM9WWbY9uZVmK7Aq7LGCnmeooYfWH+xrBzeH+T32O0QkuJ/Tn3GwTxe++992T06NFW+EIRrdinE+RTRJ/+UYyAKrp+TH5jjSGAx8kJP8JF7AyGEN0DLh1Zgz9Nwe0Dd6x3namo2AfEfkac0figLfvE8Ip9i/jubPCav5DzsUkX809Ui+c7oYi0r8kwP2CuhSqRhbRpm2Nazu2KpGNxF+nas5f07tdfBgwZIkOGD5ce5nMHY2QU5OXb449XHw9E3u8l4K5MKsor5GDFQWOMVMqJkydspRHUePNLgf/OweyzW4LHnDEfznA9wYUw/zbGqCAGop2p6Dv36C1d+vSXrv0HS8+hI6VLyQjJ6dZXqnPbS3lNluw8fFy+Wr1W3n9rvmz5+msp37NH2pjCaQ2N4E/b5x/8uwF+3yyBVfBDEqHCcEJExfTWW2/Zef7DCX0mwv3TqselT+XLeyHGjx9vp4Smkr711lvl6quvtvMKEONBOjF8ELGZPXu2vPTSS9ZAotuDmSEJJmSorB9X3jNd4BUlVWl2saegp33/IHUVIhEUioRw9V6oU7HPLIFdgQ/EM+Tk5QaGKLYrtJZxcZcuxgDoKb1697ZzEdDyamcsfmImiBPgzXT79u2VstJS06LYL+UV5dYQOGkMAbpaArgLMX+ZHwy4+L1bPVihDiw2ZqJtjuTQsu/QUTp26y4FBYWSb7YP5ppy86Rs9WpZYERh9WefSY1pLTakm7tn1u7vcwjsCLs7AbyCQ4AbLRBefuTGurc2nNHjxQkzLVMMAYYA0srkDYcYALwc6qqrrrKTLDFigeMwBGhxPfXUU9YQePvtt61hwOyCBBPiGVEUpfmJS3WbwjIPVbmkDebaGZ9PxXWk8ogNGqw8UinVx6qt2x33dDiFinTfpKtLW28a27/9Sc5nz+IqZoYg4hXILyyQdu2LpHNxsTEEepjK2BgC3btLcXEX6WgMBI7DI1C2f3/AECgrDRgDZfttjAT3QWucYZRW+FnbHzJ/Ozz3GPAWnJEThyqkes9OI/S9pK25nk7GKJk4fITMGDdeerdtK0vmz5eFr78u29asCZw/8PUAnN5tMOc1u5OGew64CT/++GPbJYWburXhzW/ePOfH5S/v8TbA1Ag8BifR/0wMNGHCBLnhhhvk9ttvt4bARRddZOMf8ArQ6scAcNMMYxQw1TCGAK5a64FSlCiIlFeV0DR7E5v+QVyB6YY3czHEj9ZgcZdiI5wdbWXX3ggF/eYYAPR10vdJfydrhrEdPnRYThw/LgQlOoGkArULG0LkXSdI0WCvj3PYJXCygAAH1ngE6D5haCKBfjYAy1w/LTIMge49epiluzEOOtt5C6roVywvtzMXcv10EeAVcIYAwY/nckaOHyyX43t2yYi+/YzQZ0sWToPgPRDQ17tLV7nqwotk+oiRklVRIe88+4zsWbdOjhoDwSWKu4UA5i+j/uduix+Xnk64iLmgLwuXNZPWKOdCGrl8783/fvz7+IwhQF8/+QxvEyMb8AjcfPPNcscdd9j+5mnTplnjAG8KcUDPPfec7V988cUX5YUXXrB93rwgCs+UoiiJEZfYxyJCfqgIEPtEztESUCFRgZ1mvvoTJ2xLhXHydpigWbexIporhe3aSYeOHaRT507SkbnuO3eWHt17SH5+njUQGA5FS3rfXpZ9st+0pPEMYAgQnY5XAIMIkQzIXGyQqi5lrRlhzmONieBGWzE3JP3ZitxW0MYYYAhgUVF7O0QLT0CXrl2lZ+9e0rtPHynuXGwNBkSy1LTE9u7dY+9h7569smPDetm7ZoUM6dPLnL7eaPQZ+74EPAOBezn7O3nGKBpuDIJbLr1MrjMC8NXbb8lbs5+SFYs+lRPGyMCQsMcHLzSQV6zlYD/Hi7334NoFfV588cW2v7olSbeyEA8u7YG/yUcYAwS4MpfBJZdcYr0Bd955p9x44412uOell15q9/Nq6D/+8Y/yi1/8IngGRVFipcU6z4n+TReojJk7gAh0Zqwrah/a3WuF1VdxI7S0lJldD5d6T2ZjMy3p3ozt793bBoNR6Z08cdK0YA5I+YED1pUeCLYLGgLVx20kPnMEYAzY3/D+jPvbrNsEF/7GWKBi9Va053zPs5ljz9ln8Wwwu5kZkK4B5txH/Pv06WvWvc26t5ypOSFd2hXKpk0bZe3aNaalttYObaysPian62rtmbyLuSh7znbmnJdfOFGuu2iidDHGzsIX58oHc+fKrs2bbZpwdOAyA/82BaTr8uXLbYuetG9peD6tTfC9eO/dewyR5v369bMxAQQIslYUJT5aTOzpn0uPPjpcvgHBOVlVKTnmrxo7Oc5p+xKbQJ+2qaxYm2OcuDaIp39hs6vP2jDfQFvrDejcJWAI9OjVs6El3cVso//9hDEw6A4or6iQA/sPSKkxBDAKjhw+YqfjJfr59KnA5EHW4Aie3uL5cM4edw0NOFGNANfuKmYObljwCrSRHj16ypjRY2XsmLH2TYhVR6tk0eJF8ua778i7H38om3Zsl4rKIzbewV2J/VXzgcmF+3XtJteYFt5lw4fLwXXr5NOXX5ZP58+XitJSOxTRfsn9fmPYYwN/eqFLYtWqVTJx4sSohb45hDicEGYarnw4/J/B+5kXPa0zeYHnFWoqYCUzaQ3Gb3PTYgF6gEhZl3XKkyW9e3ST/sUdpIOckKzKA3J012bZv2Wd7N+6UQ7tNS3YslI5ZiqmGiO+daYVTt88qeSWBoJ90PafCPkZgyCblnS7wOQm9Kkzm1tPYwwQdd+pc2fJNftrak41xAjQYkXMKsrL5ciRw3Y8L0PvrCHApEPgv6CGz85pbjCfA+aK90APEcsh32kjeTn5MqB3X5l57fVyy40z5cJx4+1sgl8tWyZvvPO2LFj4iWzavt3OZsjMhg3D/AzM4jduyFCZMeFCGVHcWTaZYz8yrf3VX34ph43BE4h7MBfB/2YdqBhY2B78M7gK/mmP2bZtm50CGNd9KKFvrIJx+xs7TmmcUCLvh756+vIJnlShb100lcYoZ2mxlj2kR7AemS7LzhRX3KlI+nUvljGD+8slY0fIZRPGyMWjh8rQXsXSq6itdM4+JdlV5XJ091Y5sGW9HNi+SQ6V7pKD+3bL0YPlcqL6mNSdPoVaBDwC7uxBVaLl7WSEbW57w2JX5nsMvzOCaD0CRgzpCmCSE4LtMAaIFUDM6upq7UQpTIBEbEDZPmMIHCi3wYK8npdofLpTrNi6HzAXxF+eLQGC19BgAAQ/n09gB14bZy7Qau/euVgmGsG/9qqrrfiPHTXaij+V+avz35IPFn1q31BYcfiQ/W1T2m2B79K+g0wZe4FcPmastDPGy9oPFshHr7wqm9euk5Pm3gJpGLymhrUhsKMB0uFPf/qTbN261UaEM9SOPvu1a9faCT6IQwiHt+JRoW8eeAcGbwKk314rfsWPlsPYaVGxpxATvZ6WQ26sYNfb980Xty+Svj26ysBe3WXkoH5y8djhcumEUXLh0AHSIeuUDOhcKN1z6yWn+qBU7TGGwNb1Ur5jsxzYtU3K9+yUQwf2y8nqKqk1rXSxc9RjCHgyc1C4AitPxcef7rDgZsa9E2RXWNjOij5ega7duhpDoKftIuhgtjEXP54DPCvEBBwoLZP9ZqFr4NDBQ3YUAQGDGGKBqYuDuN9wf5p9oQodTgQ7/DAIz9l2dRjIcG3NNfYwBsqF48fL1IsvkVtuuFFGDx9uu0eWf71CXnpznixY/KmsZm5+I8KkBi/sGdirt0y54AKZOGig1Bgh+Oy1V+WL99+X3eZvrsUuBu6Nvxquk7W5BiaL+c53vmMjwpk8hyBLRJ730y9YsMCODScKnPn6Fy1aJCtXrrSCg4eE+7T3EVyU5MF4fDxUeGCU1omKedMTs9gn4yG46HzvuVPnYXMdAeFqrKL37uc1Nrlt20iHgnzp1aWz9DPGgDUExgyXqeOMITBsoIzq112Gdu8ofdsZga46KNV7tknF1o3GENgiZdvNsnO7NQROHKuSOiPMJlHMmQP98va67P/mn4ZL4pP5Lyuw5n9zRfY/c2F2kh1a/IUFgcl4GCnQrVt3O0aabgJGEBQWFlhhJSDwGN0Dhw5JWdAQOFheIUcOH5bq49VyipgFc9o2nPvcS7DYQEL3wXD2r7NY74VZ52W3lV7mOi4cO06uueIqueW6G2TMsOFSf7pWvly2TF58Y568/+lCWbV+nRyrPiZF+fkyqqREphvBLikqkvKvV8o7zzwryz/7XCrN9dp0Mov7TW9e4vkwzSvTLTNBzJTJU+SqGVfZCWLuu+8+uemmm+wQMTwlGKKMDccLMHv2bJkzZ46dJIaZ4paZ62Ifr2P2kzp5Nz3wphdpiicKwwzYF6nMKYoSHS3asnekfus+0M72VuFW2INC5ydU1RQ82i4YAvk5baVzUaF069RB+nTrIiMG95dJY4eblutIYwgMkHElfWR0v24yoH1bYwgckCoMge0b5MD2jVK6ZYPs27ZVDpfjEThmYwSy6Mf2cc6luQ9m3SCD9vLtQDkbYJdjDIH8/AIpYppeI/x4BbowKY8xBDAMGIWAsUAMwJFDh223AC2wA/v32xaynbuf+fPNcjYNzC9QmZv0Ons9tNV9UKmblUubHt26ygVjx8h1M2YY8b9OLmAuenOPnyxeLHPnvSHvfvyxrNm4Udqb6x1nDIMrjPB3M0bj6vfelQ9ffknWr1gpdXQReYTEa4yFEhCGg2EIcL9MBENQGC/x+OY3v2lf83vLLbfYIWK8659uFISJl3EwSQyGwGuvvdbQPUDrNB3nk2gJ3LPAw0J3C+8mSPtZNuOAcqKGYoBQ5dNLY/uV80mZEuWG4rnMnjoPk+tI8FoinSK4zx3SxjR389pmS/uCPCkuKpBeXTvLyJKB1iMwecwImTR8sFkGyoVDekm/ImMIHD0gx3ZvtYZA2Zb1snvjOtm7ZbMcMYZAjTEE6o3wBjwTCK6pTGwgQHTYI81zIEaAYXdMxmOn6DWGQLce3e2oge49e0hx1y7SrrCdraAJnqMv/cSxo1J9tFI2rN9g++V5eczePXtsdPXx4yfOC8x0z5vHf8b64QPGERm0IDdPenQx4m9EYOa118ot118vEy+4QLLq6uXN99+XF+fNkw+M+DPhz0RzzMWDh0jbinJ5b/bT8vFbb9lofntie37f/buEbwQCxJh4h/kHiI3g5Um85ISX+PzVX/2VnUMew4DtTCSDcNElwCQxTBbDRDHMGMckMXv37m0YORGJ1lTxb9q0yRr8DLFzQk+e0EpdUZqGlBB7CnR6BOv5iFIoooGKPZyhw2da4PybawyBdvm5xhjIDxgCQwbJxLEj5BJjCEwZM0ymXTBMJg8fIP0KsyW7cr9U7d4kFds2yJ4Na2Xb2tWye/MmqayokJPV1XKmttaek/50+9v8vPlpfqtBZ9zabLfXxeK7VlrETCpkJ0rhvfxmfeLQAZk6aYIMGTrUTqPat29f22pmYiGmRmU41Zo1a2TXrl2yZtUqOxyON3wxUc/hw4cCL1OxPxFIC37H/ZeXmytdi4tlrBH222+aKbffeKNMuWiiNTJeefMNmff227J+7To7N/8400rfvmixzH/2eTlYVhaM5DcndPcVB/ZaPAv3zcQ8TABDlwgt0yuuuMJ6A4gRYKIY4gSYe59j1q9fb7sFMARYszBbHB4B3oaWHiNUmg7Sg3TkzWatsUXvcPlJUZJBSpUsGxAWbPE4MUkVKILJLIb+gh7q81nMPvtf4JoQbNP4lpzsNtYrUJiXI727d5FRQ0tk4piR1iNwxUWj5ZqJY2XaqBLpnV8vWUdKpWrXZqnYiiGwWnauWyV7t28xhkC5nDx2TOpPn5IzdcYYOGOO5VnwTIIKScM78MsB3JA5FLTuVI0c3LFVxpb0N9eRb1vEuLxpFdMVgBjyZjUEkYVJU0aPHWsnTGFKVQILafkTIY8BwLJ69eqGv7ds3mxnH2SoIe/dr6+tsxMederQQcab83zr1tvkHrNMN8J66NBBefOd+bJ580apPXZU2pjj92zbInt2bJejlUcCLwGy9xa8/EY49xk0DsdjCLj7Jw6AV+PyEpn7779fHnzwQRsngFGAl4A4CmaLI1AQQ+CZZ56xhgBdBcQIYAhgLNkRFMxV4Ckj3jITTdlJhfLFNWDw0TWEQehPX+89ZTLuHlvDvSotR8qIvSvozp0fa8XaGiBNYkkXjmTBEKAvPJsugpxs6dOjm4wZUiIXjSZGwBgCEy+QqyddIJcM6yc9c2ol5+h+OVm6Q46W7ZbyPdtl54a1UrZrhzEEDsjxqkqpM4Jzhu6BYAvUjh4wFkC9MdaqyvbIBUMGSo5pobnf9+Puw90La1p0vFSFOAG8AMOHD7cR87jFxxoRd2v2IZy8wAaDAG8A3QS0DtesXiNr16y1w+uqq6pk6MBBctv1N8g3brjRuvezjEDWmvxVc6xK9m7bKlvXrZW9O3fZ6Y8Dren4KlvvvYD/cyjcMSwYBBhCGALXX3+9PPDAA3ZxhgDDz7hnBP/ll1+2L5F5/vnn5emnn7YvkmE2QOZYIG6CPm+vIeAEM5SQ+I9pTvg9jDi6PDD+okmzTKW13rfSvKSM2LsKh4rK32pRmpZA1UL6ng2KowVfkNNW+vY0rc+hJTJ+5FAZM3iAjBsyQGZMHCMTBnSXXjl1kl99WE4f3CdHdm+VfZvXyZ6N66Riz045fvSQlJftM+eplZ2m5b193z677CgtlZ1lpbJrf5nsZjmwX/aUH5C9FeVSalreFUcrpcys9x8+JPuPHJbyI0ek3LS62X6w6qgcMqJ9yIjz4epjUmmErMZcZ3Z+vnTgJT4D+ku/wSXS34gFS4kxEAYMGSwdu3aVeiOghyorZZsR841btkqZ+T3m/i8qLJIO7YukU4f25t7PSOWhcln11VJZu/prKd2314plS7jRqfDJ817R4zOGAPMo4AVhznjEn4U4gXvuuadhyt8VK1bYV8ki/sQKECfAyAG289rZiooKO/kSwbDg/Z3mhvTFg8H7JvDmtHZiqes4VutGJR5iFvtkZTRv5UPrXjN0cglV2bttbA0szAJ4xhoD7QsLpF+vnjKipL9cMHSQXDxmmFx+4Ri5YvxIGduni4wdNkh6DymRqvw8OVSQLwfzcqXCLAeMAbHfCNZ+c95Sc559Rqz31tfJntOnZWdNjXy+Y7vsNAK0i88nT8r2E8dlm2m1bzFCv8mI/gZjAKw3xsBaI9arDpTJ6rIyWWlEefme3bLMtOyX7tghX5pW+udbNsuijRvMslGWbN8mX+/dI+vNd7aZ82wzhsP2yqNytPa0HDdLdY1Zn66VM1km+2e3kcKiQjuiYfvWrbJkyRc2iLAl8D4P//MJVcnTPUDXAF0geAQYNXDXXXdZY4A3y/F6WQwBvB8EBmIMYAjgFWDUAIKLF4QYCrwCGNl+vL/r/33/52jgN/hdRjTwApxwuHN700BpHcSTr5TGyTIJe4bXfF522WUya9Yseeyxx4K7zod9VCZEztJnyjSWTQ0PmgJORcbC3+4NZfRrsmZ8NOOkE2XJkiW28sFFnAyIQSAqG/dsWhEsa6tWr7JD66677rrABnDl8Jw6OLCRMhrY7N3JRrf/3L2k/fx35svdd90d3JI8aLEzc94d37zdXIjn+tyf9hLNB8+uUNAyZmRB2j3TIJQv5gZA3ClXtPiJA2AbkwcRY0GLm+4UXOwEVfKZeAIvlEtvpRyNKJN2eBoQeYY3RsKd252XvIKBQv2TLhB0SZ1F95QX0pn4i5KSkuCW8+8XuGcMNeo7PxhuvCaYlwWlKtR/PLMZM2YEt5yFLji6rvz5CpwGAN11GKMEb/ohluXee+8NflJCgaYT/4PGx9yyj6ZQJ4I7vzdYT0kheDwhs0DwOfH8zjmGP/ANmKxm9/kW9ofanqzFZnnWwcUKv1nsfvNnhkP5QiDcpELTp0+3onHbbbfZipNRA0xow+yCzKSIsfrRRx/Z+AC8Au+++658/vnndnZBKmw3u2Bj4K1D6HHbI/R8xy2hSHY9o6QekfKDkjgp48Z3uAfO4oL1lCaGRxjpMQb173zOfun8U7gveLY2nMcdTYzAud9qedy1heDsZWcUrnwhqG4BgiTd7IJ4LvDc0SpjDgFiBDAEmF2wW7duttWJ2H/wwQd21ICbXRDDwM0uiDcFGEbJC4gGDRpkv+vw/rYfrk9pXUTKD0rixCz2ycY9cBZa9lQqSqoQvgI+WzmHOgaRR/dTpAIPXIxt1McyyVBrxJVFZwgQI4BLlXgAXNRMM0yMgJtdEEGn+435ExB/hhH+5je/sUPrmJDIwTmV83GGWGvE3bvmjeSQcmLvxwXrteZC0OQExS52zmYX7ykCj8VZ5aGyFNvcvrh+OCkE7iHCNQUOCLs7XXEC3lQwYoCuAcQcNz0xMNOmTbNBghgCxAHQPxvLbzb1NaYTmXrf0dbhWs8nh1A1c0SaOyPy4NWdn9q01kpZCY0TahYMgdY8K160eNOstaNpkBxiLoXNbXW530PwiRx2k4YoitIyUCZdufT+Dd6/QSvu6HDp6E/PTCJaYyZT77+lSSmTO9RDZrgOIk9gEMP9mBiEIUHpQKYXXi9aqbcevJW2/7lrPogdVz+09rQLl6eUpiGlxN7/kBl+R8Qv86lTIJjshCFCvEwklXGFlyhkxjIz/zdDmBgvyru6GTvKPjwU7thoDYJoj2tOUvGalMQI9UzZ5hYvWjknhqaf0hwkReybovLHbc/wHV6Ugsgz9zkT/zBHeDqAoDNxBsOXmOoUg4XZzBi7zEQ13Bv3tHZtYC53DAEMAzwXTHLiNQQUpSXQ/KcomUNSxD5RSxWxY+jOgAED7Lu/EUTeFIZYpkMFhNCXlZXZyGQClEgPopWZ45x7YhgSL3phmlPGMzOumVm2iEcoLy+3984rYJ0hwNzmGA4YCngEWmLudiXz8ZYtV4b95Y3t2hJtWlwas24sfdOh/ksEzVvJI6Xc+MC0nYgbU2q6t5oxqQfDdyBVMwOFkIVpSBF6xhs7oY90zRzD+GUMAbwYTKHJOGYMgREjRlhDAG8GXRp0AWAIYARgDNA1QBrxe+wj7eI1BPyVSLSVCsdpAc1M/HlXn3PycfWIn3DbMwl3j5l+n16895vs+45Z7JNZ4GnZ0pKn9UuLFmHj5R4M3fFXPKkED4lro+VNMCGv7ExkuJG7VwwcDAHGL9MNQLoMGzbMGgKs2cbc0hyLkbF7924bH4AhwPzt27dvt+lp3/1eUxMxM/nT1v9ZyXz0mbcspL9b/ITbrqQXTtxdXex9rqwj1dGJErMiJetimGObvmxc37RcEc2bbrrJ7vMmTirCQyKuAMGlRe9oymv2F3QMAboGmKyEucbxhGAA8M53PAO89x0jge4B0pYYAWcI8CIjvAJ4UPAIOEPAXW8qp7USH/p80wPvcwqFvx7IRFrDPQIvdWO6aaaSRu+8XtlklNGUEHuC0uiTRuiXL19uxYeXc6TLQ3fj/xFYrtldd1Nff6i0d5WDWwBDANc/rX7XPeBiBDAI8BD06tXLHkPab9u2TVavXm0NAWcMYAiEe+2pI9T1KKlPa6lM0xF9Nq2jXuFlUog874rAI/zhhx/KI488Io8++mjDS6fmz58vq1atsvubghbts+ehIigEpSH0WDq4v6+44ooG1z2wTpVC4BVV1lw7xgnv5+YamyOjetMiVBp593thO4YArX3XPYAhQJAgHgFiBPAKYAzgNXDxE2Q4vALOIGAbGdAZArHeszf93Lo50q01480fSmrTmp9Tpt27v66DTz/91NbBNL7o8mUOmZkzZ8p9990n3/rWt+TGG2+0b6OkHqYLdt68efKnP/1JHn74Yfua+SeffFLefPNN6wGnjo6WZu+z9948gsFwM1zfn332mRUYbjKVp9d0lSbXjzeCwDn6zpuDcGnv3R7v8+F7BAvyEpP8/Hz7PnO6B8hwGAIMH2RhJAHPCfc/QwcxADAEMAj4TIwABhyTIblXFHszuvdvRUkHQuXhps7H8ZbbdCNc2jV1erY07j69z5X6kBY8Xa80rBzuGHSPxhj1L3PJUPdOnDjRvmzqwQcftG+eJIaN7m3q4UWLFslf/vIX+91oaHaxd2CxIBi06BcuXCidOnWSSy+9NOUzvXuI+/fvt2uEnmv2LpmGuy8yI8MfMQSIEcAy5aUnGAMsWKl0DRC/wCgKvABYnxgCfMYQwMDDE4KR5IyBTE231oYrG5mCux9GvODBy7T7SyUyrfz76zS8oAsWLLB6wYirWHDn8hoDxGFNnjw5pgnmmqzPPtqCwEXTx81YdISe91/TguT1mOkCE+CQ8AyLy1TiqdTwCmAIYJHiBcAYcAYB28ikGHgECxIgiFeAtFRiI5UFx1vBNReJpkekuot+VeKHLr74YnniiSdsveUqXz+RzhOJRK9fST1cXmBhgjha9HSZ0kiKBpcn3DkcNJDwoNKowmjAixotzeov56JpEdOy46bfffddKwL0WaQL9FfT38J7vTOZxiptf4Xn/ez/Lp8RevcKVIIFyai4+u+///7gUamLt8CxJhiTBe+EtyD68e7zngMifS8S8X6vOfA/92RA3YG3iKBSutH8fZb+dIZ40ozvfPLJJ9aFyjBWWvff/e53bX8qLbSmehMnv9NYuoW6p3SFew11v977a4581FxgHP75z3+2Io1XlM/R3qv/meMdQOh5Nwz1KPtp4UdLk7nxQz1E/8Uy+QvbCGZ7/fXXZdSoUbbVl+pwzSy0SN0EOK0VlxYs3s8O79/hoMJeuXKlNfIwAPznSFW4RgSGPIBHwnkn6KJwkxvRhUGBDiUGlA//vbrP3m2R8JazaL+TSXDvNBgI5n3ttdds0NJvf/vbhqAltvM8XKPCn0ah0sxfbwHdTT//+c9tmfdCcBV9pg899JB99lTiiuLHlVPqC+oC1u+8847Np7///e/tGmOSWDUEnPqEBoTLn+777m8aRnSL4rZ33oFYY9tiOjpc5cL2SIWIfc71jcueQkp/gwtScMelKlw/hZ64AoIrWjMuE7KQLu5vh/fvUJChqSQJPCE9Q50j1XDX57w65FsCZBjFQDcF3inuhfyN0CM0TApF4CLCQ94h/7vuKwquw527sfuPVL5SFa451HUnAq2jGTNmyD333CN//dd/LT/96U/lhz/8oVxzzTXWTUr60vJ/4403bASzq1ipc6hc2YdRhlcmEhht4bqYmM579uzZ9jd/+ctfnndcU9+zkr6QX6nr7rjjDvnOd74jP/jBD+RHP/qR9RAh2hiL1BW4+ekmIs+SX1999VXbxU1dyeRyrGlk0lB2+cuV/2jzW9Ld+FwIgVkEFnCxDCPghTbJmnymqcF1QquNFigVeqpXsKkMY/qxTsn8zAGQTpViOK8O+QEDAIubMbMIDl0UGALELeBuI46BY5yFj1vYGQK4oynMBICRPl5DwIs335FubnH4P6cCXHNTlxf/fXJ+uoioBMeNGydXXXWVrVi/973vyc9+9jP5m7/5G7nuuuvskFJGm+CNeeutt6wRwMJQJsY0M7kJgaQ8H8o8faGN9Ydi1P3Hf/yHFX3OQ5eC/36b4pkkIx1TCX8a+Z9xuuPuxT1HtJBuYDSQoHQ8RUTaY7SSXzEEaEQ4DyLCT55kbhQvLk9EmzeapGXvbsILx2K10BoimIAKDzebGz/oJdqLbW5IYCpiKvj27dvbbZmUCRMl3HPzppH7m8A8RI5AJ/qcIFS+SUWYdjicV8d7D/57oaWPyLvJjVwkLt1XLBgCFHrSg5YmQrNhwwZrCLAmvTAy2E7fHPmxtRNrnmGYKOmO4UUjg1dk0/f+j//4j9YVz/hmupMw1khruhd/85vf2CFNeAmiAQP2+9//vq2kaaHFcn0Q6/FKehHL83XxYBin1JXXX3+9fQkcjU3w5v9Y803CLXsq81ACyDaEnoqMgoTQM1kOs8y5/akMLSyEntYaQq8FMjbc8yXdmEuBFhWZF8MPUv35A8Yq101Bc0NcEr1uvs+CIYCLD+sdQ9gZAlj0eAX4m9YqBgbXgeAjKs4QwCuAEYJHwPX1xZJH0yH9k4E3/Ul7uhXpkpk0aZLccsst1gDAI8DnWNIIY41ugptvvtkGneKaBa03GselkXcdLt3c82tNhEuLcNvD0SQtez8ch1DSGkIosZZxdVGhpQMIPa571+ryEmsCt0a8aYQY0UKlVYXVmi4gsIgpwyvdy4bixVtBcR53Lu/fDo5DiBjGiGHEbyNIuPycIYDVz2cMUVr7uPowArwLYoOBQP+y+223Vs4S6rmyjX79eMDwoj+focQvv/zyOemvRE+4NAtVZjKdcPcbazok1LL3PhBvhUI/JBURLrRXXnnFWrv+oWqp+sCw0HHnYZhg+Stn4dmGK4TefW7thP7KK6+0/aVeeP7hztVSuOtBQBF6RNZr7Lk8G8t1x3Kst0zwt3dxkI70+WE4YUhjjNAydbMc0j1AACHXjsGC0U1fNAtBPqwxBPC2EK3OMSxcp1vAf93R3ke0x7UU/vQE7zZ3/bxBMlYw0ng2xKTce++9NgCLhoP/95qLpnoWnAfjJ1w8SXPCtaR6HksU7/1FutdY81WTBuhRaSD0uB9pmcydO9dO75cuEexO6AmyIuinMZKR8ZJxzubAW2ECrUpc4Hh0qARD0VKVYChcmrs8QDBMKGPPf59+/M/OHe//TrhzhDoWwm13uP1OcDBSMAR48RGBawxxZcE7gCHg7pPodNc9wN9sY9QAwWYcQwVPuQb/vYXKp5GuMZ0gDRoDg4suHkYH/Mu//Iu8/fbbNt8vWbJE/vCHP1jR93sGo6Up6oCmeBZcB3EIeJSISVixYkVSYkf815op+SgeuHfSvbE8EK5eDUdCYu99IFQItIYQSra/9NJL1rp1gW2pDpHStHgImqIv1REpwbnP1pYp/ffrMqU3c9IKoBuEyOh0AnGjJYxXB69UPM82VPq0NN5roIJAgDBm3CuRMQBYU6EjXpQF4m0w1ogNcAYBzxRvDcGCuKdJr3CGQLriyjRD6rxzgLCNdCPmiIl2fve738n7779vjSMm2fnP//xPG/XvGjbuPN5y4SfeNMMQY2ggQa/87Z6Bn0SfCedl5MJdd91lf4v7JXr87//+721eCPe7SvzE8szIX7GQcMueH8T6J9MjlFQAtOgJUqHCTAdwZ+KRwB2KR8JbUJsb99uphksLf5q463ULwyxLS0ut6z4V7yMcTujxStFXzn22xPNPBpGeg/ceMQSIEXCGAOJPtwDGAJ8RMtKJIWdU9hjHGAJMCkLa0aplMppoZhdMdZjl8cUXX5Rbb73Vjo/m1aO0cHn9M33xP/nJT2TatGnntdy552Tne4wtumSoZ5lU6Ne//rUdo41ngVeEe2cXTOQZYOz927/9mz0P3iLg7//93/+1MTh//OMfbXdQMp5zOuedpiRSXoo1nyUk9jwQCjUFn4AhrD+i7hnjimimA2Rerh+hdxk6FNyrNwO21szoMlio+ycdyQNUBOmAe6YYe4gVfazRdN/EQrIr/kTwX5v77N3O3yyUZ0Yk4PXghUeIIcYAhgCfCcalpecmo8EQQJAYOcBLr/D2sA+hcoaAy0OR/m5JMHCYjOepp56ydRoR+hiCLk2iIZZjo4V4qMsvv9yOHPiHf/gHO7EQXgWMNDe7IEHRvB+dYYRudsEvvvjCPg+eRTSBg3h3MOaA++b8lA/qSfbx27j2+S3OB97np8RONHmF9I0nT8Uk9v4fwN1HJUlhJ5MtXrzYvpM31r6EloJK5/PPP7cCRUAOlRLbHOES1JuZW0vmbixz0Qog7einjCcjthRUUjx7hJ7uG/csuQfvfWTqM070WfF90g2PADECePeoDwgSpGuARoAbbonQU0+QV9ybEPEIYhzQQmS/CwJLhfSOJ21i+Q7Hhjs+lvNgiGGETZgwQW644QY7u6AzBJitzT+7IK75//u//7NdEXgEmLTl448/tnEbeOUwfoG/KdM0iJjwic/U7Qi+C8D+6quv7DvYv/3tb8vSpUsbnhvrRJ5hpHSJJW0ylXjSIG5VdpUkw4BYU3iZuSpdWvRAZXT77bfbVgluL4wVXHfEG1Ag6KPCSsYthkHgAlNaY4YLVXBdgcaNy3MnPdPF0AMqMYSGSZ6iybeJVF6Zjrc8uL9ZYwggDhgCbnZBZwi42QU5BoGhDLrZBXGXEwNEY8LFCWTapELNkZ9IWwwB7+yCs2bNsoYAEwHhEcBLQ2udem7+/PnWTY8hgBHghy4angXPBE8O3RgsxC1gaPA+AcqUt47UchMf3jLlxZu2sRBXzYy1hyVOoaVwsjDln6sw472Y5obWCK7I8ePH2z7mu+++21rErJkAiO1ELhOZywswmFaT/jrcVrjFMA6okJhWk4zvxC/TcPfknqn3HnkFKOlIXmB/utw/rRwn9N7um3D5Nh3ycyrg8kCofMA+t2AUutkFaSUiSHgBKI9ummHv7IKIv9frpoTHm/Yuvb24bXhcSHfSnMA7JhV68MEHrSHAtK00giKBsUyMBt0zGGv87uOPP25nKSSWAKMA/L/vJ13qjFSisTQNRdRi7x4IDxh3DlY6Ebq06rHosCDjuYBUwGV+9zctESoaKhz6JDEEcFVhCNx55512CkOCcxAKLFxcYM8//7z1CLBgEPgNAYc3Y7u/WYfaHgr/sc2J97dZEwxEiw3vTjq06N3145Kk3xJxceP/0zXvpiL+8hQO7z7v384QQOhp+dOIQOgpg0pycc8OFz11WzRQpvD0IvqIP15e3hnA8yJ2I1Oi9l394f5OBu68kcoNx3j3R3stUdXQ7uQUOKKtiVimRUeFifClk+s+XlwhwBqmAnIRy4yxZYghhgB9ZbjJ8HJgKJA+vGADQ4Dl6aefljlz5lhDgGA2DCd3bi/+z45oMkJzwHUsW7bMDkOif9ZdD+uWvrbGQOipxBD6WA2UVL+3dMflH2/lhWsfwcDgpkGRSSQrP8V6XpfuXoidIO0bA6PMvY2NOhFPDedyc7ujGU3lkYlW1JIFaeLSKdY0jgXuM9K9+p9XtNcSU21HNC6tuXfffde6eOjv8c+M1prwJziVEfMKYAxgCNBHRsAihsADDzxg+8owCBAaPCIMlXn22WetEYD767nnnrMBg/RTYghgEXu7B/wPubnw/ibXQSAOxgz3ESlTphJcJ657umS4doS+JdJSaRz3XAjmI4APoY80UiZdSbWyw/W4a8IoxsOJB5euTESd1r6LvUDYXRcL3ks8oXg9//znP1vjjEbOv/7rv9ruPb4bjmjTwB3XnGnm0oOFWAZGbPGmROrmZF1HtHVSPHVXVGLvTkzEJX06v/jFL+w6HVy3ySJcYnszgTuGNUYRxgCzsmH1YigxFwHv5P7bv/1b+fGPf2wNA1rLVHDEBBAsiDGAIUD3ADNzsY9gQdxm3tnNHMnKhMBvcQ1keoQ+nSCvkjZED+Nd4VXLeKfokqKyos/RpSfHNZaO/v2hjvdui+acylnwIBJTQexMPBVbOpBq98X1uGuiMUfjBLc8Rhflg+A8YrUwBPDoEelPOeI5Ua4QQgSfOAC8vU2pD+7a3PUxEoxrYu3qwGSUMc5HoCIzwdIIY5gjHos33njD/nZT467f3WcoOMabttHec5Y58AxuZcZG83B5L7OSOvAgefAUMDIb41vdEEEsTDIcs55haTPpCW40uhowLFyBc5nBm4HceSNB3xtiiGGCEOK6x1LHZZfukG54V1hIWyoMKjMqENKQe8RLg3Hm0hODzRUyf/qFSk/vNvcMoLF0zzSY9IU3yYXCpQtp4tILgxYvDOPa0zmtEAnGw/tbtgSu4SLHYI50f4w+YHgiExv5YaTQtddem/SJy/A2MrEOnkrilCZPnmxfCdxY8B5QR73zzju2q9MP3ZjUV26G1XDp4AJpaSB5oW4iCJBRHaQTdSBllsYS3QqUWTwTpL3f6PDmOT/+fdR5BBzyvLzdEXiaeOfLv//7v9u4Lr/nyeVl6mtit0gzPzQ2mKXRex2hro3RTtyLt4HFc+fY//mf/5F/+qd/CnkvgKYzvBKNV7FPcdzD9+MeLvtp6ZOpsMARLlr9VChkTjI+CwLGguuNjIN4cQ7v+b3nBCZFQewprMyJjdBjVGQ6iD7pSQEnLTEMaOGQnlQqLBQ2DAEWKhQKeyhr21sIQ21rDcQi9ozB5+90G8YZikTFHgPbib3/uOYQe/dsMICpM2IlmWLPteFVIF4KQ53uOcosC94HGkKUXa6B0R50P7Dwm5RZ6kEMAv/v+svor371K/nnf/5n+z0gLTgna6BrG+/s3/3d31lDw98YSJbYc+0c664vHCr2aUaoDOBw+xzuGLazECGLYLvZy1jcCAFEi8xK5mfNQuXhDAGsZ1pZFBIqHPrlQl1DukL6+O8n3DYHxhTpiYGFEUBlhKcFiNVwxhSVGAt/42HJpHSLlUhi7yCNGd1D/mPoXSakV1OIPTPehUqP5mrZhyNUOfHTXGIfCVr9pDXB0iyUVdKf87KPMosxwIK3gjqQNeWWa8JtT/eEA6OeMk6ZplHAM0L4eZbkcbq6OYcjFrF39Yw/Lfxiz34+Ay17FfsMxV/IXAZx+DMKeI9x+8mkGABYxLRaKQAUBEQM65QM7woHk29gGECo86cr4dIyXBqGu3f2sZCOpCcVCRUAacc2vkd6Uumz8LerUKg8YknTSNeYqjQm9twTM7tR8WNUurROx3v10pjYM8FQJCijVPS4if1p0Fxi755FPEQr9pHOH07sgflOGhN7L958xRpjnfLKwggd6j4WyizHcH0EHDLNcChoFPFseQY8U4wHRJ3ARIKz2Z8Msac7kd/l+FjEPr39ZK0Qf0bgs3cJRaj9iAwtdSrXKVOm2Ck1ebsVLile/DF9+nQbBU1moRsg0vnTFf/9RLrHSPfOPgwkKgcqJSZjuuSSS+ywVCZoYjgm0wgzJS8iT8VAt8h7771nFwoiozDY5mIIqChd4Y+FUN+J5zzNBR4mZsyji8n1Tbu0jvQ8WgstnQaZlP7uXtwaMSaYEMFFnJlNlfqOSYV++MMf2vJLWQ0HxgJlle5TDDPqAEYiMPKKdyngGU1G2Ys3T6jYK+dBIcAQwH2YCcF4LQ2WOIYAljlxDwg/E1FhXBHkw2e2U/HQkmF4Ky03piD95JNP7EK0M60E14IAKhLvAqEqAbYlo9KJF3e93AdxIaQNs7il0jWmCvFU6kp8eEWUljMGqOubbwyOw62P8OMZwKuDS583A7r5VKIhmc9bxV5RWhD6/ug3JLgHt+5FF11k3yTGECbWTGOKMYChQCsC0WcMM69bxRhgYRtxBBgCbhiSn1QSDa4FYadFj1HJ3Oxuu6KkCrj3I7XsvVCOMVqZk4A+e1r5xEbRXUHXQLhy6YjF0I23nKjYK0oL4lq5rrB7/6YCoeIgeAhjANGfOXOmdTfiYrz66qvtOHSGRRF/wWRHeAQwBpiwiYlA8BIQe0Grw1U4/t9LlFjPwfF0WeA1Ys4GJTxN8XyU2EFQiblBtBFw8iqGKVHwLGxjciG8ccQd4KViG+WSqYLxxq1cuVL++7//2wY4c56mIt5zqdgrSjMQzhpnu1u8n734t/E3hoAbRcFwSGIEmKb5G9/4hl3feuutdo2Y4lrk7Y14AQiYIrAJQ4A+RQLFnCGAsLjF4f8MoY5rDO93GLvMdRHD0BohDRpr6YE/H6QzofJKqG1eXH5pKYi/wZimhY/njDUueRaMa4xwDO9HH33U9tVjwDIBGnFPvGWQlr4b2RQJd4+RjnPHsI43X6jYK0oGQUWA5Y8xQL8jhsDUqVOt8DM5CMGC9CVSSdEyYaY6ZkXkZU5Mg83MYHgGGAbnugYIFqTl4gwCh6t0oq18+D5CTyBea5ivIRKko1siEW/Fng40dm/sb8n7Z4gdo9N4AyBdbQTx/fKXv7TeM6L36T7705/+ZF/4wxTcRMxT9pJx3d7zxXtuFXtFyUBcheAXEycwBA3SNcCQW2IDCBTEAKDi4jNDLWn106+OV4AKjq6BhQsX2oleMBJo3dDKwRjwGwJ+iFam5cNkObSIklEhpiPRpoF7bplGNPffkveNwUyQHcGxGMPMmEf3mXcsvcNdZzKfVSLdASr2ipJhuAo0lKD6t3k/u79xPRIsiEeAio1+SDwCDCNkzDQVHcFHTLhEv+RHH31khxAyfJAxwWyn5cPIAoYnEanMcQxJxIjw/n5rxbUAGyNT0irUfUQjiBwTTZdHMnHj2pv6WXjvvzmes4q9oihRg6uS/nbmrWeudIwB4gQwBpg3nXkEEHi8AgyrwxPAnA4EF4ZqDSnRgRhkivDHAkKP5ygdcM8n2mcVz/OM9tyhULFXFCUu/O5KopIxBCZMmGDfDEYfJ4GCRCfT/6mcJd4Ku7VB/qILSAmQSL5RsVcUJSk4Y8BrEChKLKRTyz5eYhFwbdkripJyuIop3spJyWyiNQJdyz7TDMfmvhcVe0VR4kKFXFHix4l9LKKv0fiKoihKRuIVw0wyLr33Fa3gJ3L/KvaKoijNgKvQ1RsSINZ0yDShd6107ivae0skDVTsFUVRmoFMEqtEIfAunvSItgWcynAPsQi8g+8lcv8q9oqiKM1EohV2a8aJZCYQax5wxzNtdbz5R8VeURRFSXnUM6JiryiKkhbE476FeCv4VEWFOzZcejX2DopIqNgriqKkOJkmjq1Z7Ln3RO7f/66AaMVfxV5RFEVRUhxnJPhd+dEaDir2iqIoipImIPbxoGKvKIrSTNAii7XPNZ7vKKlJIs/S+714BF/FXlEURUlpWrvB4793FXtFUZQUpjULlhI//qA+FXtFUZQUBaGPNpgqk2mtBk+i9+39Pn/7o/IbQ8VeURQlyXgrahX81ov32ZMn/JH14D6zjpRvYm3dq9griqI0E/EKPd/zi0K6Ek8a8J140y4V8Ao491FTUyOnTp2STZs2ybp162TLli2yd+9eOXz4sBw/ftzu94p5qGevYq8oipJiJCJU6SxyoYjHaOE78XwvVfAaKydPnpTdu3fL+PHjZdSoUTJy5Ejp06ePFBQUSHV1tezfv1927txpDYH169fLvn37pKKiQg4ePChVVVX2+wg9bvy2bdvac0aDir2iKEoKk+5Cp5zFCf3AgQMlNzfXbuNVtwh9586dpW/fvlJSUiLDhg2zhsDw4cOla9eukpOTY1v7CD7fxxBYtWqVFBcX23NEg4q9oihKM5GIcGdCC7+13jv3TasdV/2gQYNCtshD3WN2drY1Cjp27Ci9e/eWAQMGyNChQ62xQCt/5syZUaepir2iKIqS0sRrJKQKzj2PSMfienc4Q4A151q9erVMmTJFunfvbrdHg4q9oihKCkMFz4LgpbvotTZ4XrTADxw4YFvl8Qg953DD7I4ePSobNmyQSZMmSfv27e22UB6BUKjYK4qiKEoSQKjXrFkjS5Yskddee00+++wz2bVrl22dOxoz4BD62tpaqaystH31CH1RUVFwb/ReDxV7RVGUFCbayjxdiLYl6sV5N9INAu5+8pOfyD333CO33nqrdePv2bNH3n//fZkzZ448//zz8swzz8gLL7wgX375pQ2+I4jP+8wRe6LxN2/ebF33BPNBrOmhYq8oipJkMk2wmxvSzy3pBJH2eXl5UlhYaIPsCK675ppr5N5775VZs2bZ5aGHHrKfMQwYcjd//nyZO3euPPfcczJ79mxZsGCBNRCmTZvWEMHviMUIUrFXFEVJcdRYSN/WfTi4F4wBIu7z8/OtIXDttdfKt7/9bXnwwQetEfD9739ffvSjH9ltHJsIKvaKoijNSCYJlhIdobwS/s9eY8Z7PB4BvAOJomKvKIrSTMQr9E4I4v2+0rL4n12kZ+n2hdsfLyr2iqIoSrPhb9FGA8Lnbe0qsaNiryiK0gzE21Jr6hZeS5GIUHu/q4IfHyr2iqIozUisYqVCF8AZPZli/DQ3KvaKoigpjhP51ip03vvWln18qNgriqIkkaYQJyd2rVXoVOATR8VeURSlGVE3dOyo2CeOir2iKEoK4zUO0r2FH4+hw72qgZQ4KvaKoihpAsLX2sSPe3X36/1biQ0Ve0VRlGYk1la593gndrGeI91pbfebDFTsFUVR0ox0bN1qi7xlUbFXFEVJMqGEjtZqPC3WdGzleu/VeSeU5kXFXlEUpQVozaIXq8GixkHiqNgriqKkMOnYkm9qNA0SR8VeURQlhcmUVq22zlsWFXtFUZQk0VQtUs7jFvc5XYnn2tVQSBwVe0VRlDQC4csk8YtG/NPZuEkVVOwVRVFSHCfwLAhfOotfvIaKCn5iqNgriqIkCSfQ8RJK4BI9Z3MT6h682xq7FxX5pkHFXlEUJYVJJ2FPFulm4KQiKvaKoihJorFWabyt1nRq7WrLPDVQsVcURWlGYmmhZoJQRrpfNQSaDxV7RVGUJiZaEYtG+DmXiqKSKCr2iqIoTUwkET99+rQcOnRIDh8+LCdOnJD6+vrgnrNEEvd0FP5w6RGLl8OLGj+xo2KvKIqSBEIJ0qlTp6S8vFwGDBgg1dXVsnv3blmzZo2sW7dONm3aJFu2bJE9e/ZYQ6CmpsaeA0H0iyKf2ddaRS9eI6E1o2KvKIrSDJw8eVJ27dolAwcOlG7duknfvn1l2LBhMnbsWLvu37+/9OzZUwoKCuT48eOyY8cOWb9+vTUEWG/cuNEaB0eOHLHegVBGQGuhNRs68aJiryiKkmRw1+/du9e26HNzc4NbAyDYbdu2lfz8fCkqKpIuXbpYQ2Do0KHSsWNHGT58uAwePNgaA+xH7A8cOCDZ2dnBM6QPTqSdZ0JpPlTsFUVRkgit9H379lmhz8nJCW6NDkQRUcdAoMVfWFhoW/cPPPCA5OXlpa1g0k2xbds2WbVqlaxevdp6MYhjoJuDGAZnFChNh4q9oihKkqBfvrS01Ap9Ii1xhA+jYdmyZTJ9+nQr+pBubnzuA5EfMmSITJgwwXZhjBo1SoqLi633Y+vWrbJ27Vq7YATQdYERwEI3CN0XdXV1DedSokfFXlEUpYlBiI4ePSobNmyQrl27NrRWY8WJ+bFjx6z4TZ06Vdq1a2e3pZvYIdLbt2+3cQl0R4DzXLRv31769OkjI0eOtAbA6NGj7RqjAK8Ghs7OnTtl8+bNNk2//vpr6+FQokfFXlEUJQkgXLTsP/nkE3nppZfk2Weflfnz58uSJUusYOHaxyBwUffh4BhauJdccsk5IpnKcD/ee6qtrbWueoTeGSuR4P6cIcA9E8NA7AJegBEjRthz33HHHcGjlWhQsVcURWliEKqLL75YbrvtNvnWt74lDz30kF1wwdPSp6VOK3XhwoXy8ssvy5w5c+S9996Tzz//3LbgabVWVlZaoWc43qRJk84TyVQXfECUEXpa5b179w4r9NHcC+fCjU8/P90iBDAq0aNiryiK0oT4W7UIGZ/btGljh9zhnr788svlxhtvlLvvvlu+973vyf333y9TpkyRXr162e8g9p999pntq8ZoIDgvneCeWQi4c0If6z340xGhZ06CQYMG2Za+Ehsq9oqiKEnACV4kEDOOIUofFzd91bjrr776ausR+PGPf2yj7hs7TyrCNTNMkJb4okWL7EJ3REVFRaNdF+BNP44naI8+fPr2vfuU6FCxVxRFaUJCCZHbFmq7H+9xofanC8wdgMdi5syZNvIe1zsR94woeOWVV2Tu3Lkyb948eeutt+Tjjz+2hsDBgwdtC94LQk+Lnr56DCIlPrKMdXVm8eLFctlll8msWbPkscceC+5SFEVRlKbFtegRdaLsGVJHIOP+/fvtMEW8ARgKdHuwn33f/e537QRDSmyg6U888YSg8Sr2iqIoSrOB2EfyWLCfoD5a9PT5040RTQS/cj5esVc3vqIoitJiuJY+a2cIEMPAkDsm2/HOK+COVWJHxV5RFEVpNvytem98QqQWf2P7lcio2CuKoihKhqNiryiKoigZjoq9oiiKomQ4KvaKoiiKkuGo2CuKoihKhqNiryiKoigZjoq9oiiKomQ4KvaKoiiKkuHY6XKfeuopeeCBB+x7lktKSoK7FEVRFEVJV7Zt22bfMjh79uyA2D/88MPygx/8ILhbURRFUZRM4ZFHHgmIPS8bKCsrk9zcXCkoKAjuVhRFURQlXeGVwug7rwa2Yh/criiKoihKxiHy/wOwmr4pKhqiHgAAAABJRU5ErkJggg==)"
      ],
      "metadata": {
        "id": "M7Rs8Rj3yxQA"
      }
    },
    {
      "cell_type": "code",
      "source": [
        "import torch.nn.functional as F\n",
        "from torch import nn\n",
        "\n",
        "class Net(nn.Module):\n",
        "  def __init__(self):\n",
        "      super(Net, self).__init__()\n",
        "  def forward(self, x):\n",
        "       pass\n",
        "\n",
        "def __init__(self):\n",
        "    super(Net,self).__init()\n",
        "    self.conv1 = nn.Conv2d(1,20,5,1)\n",
        "    self.conv2 = nn.Conv2d(20,50,5,1)\n",
        "    self.fc1 = nn.Linear(4*4*50, 500)\n",
        "    self.fc2 = nn.Linear(500, 10)\n",
        "\n",
        "\n",
        "def forward(self,x):\n",
        "  x = F.relu(self.conv1(x))\n",
        "  x = F.max_pool2d(x, 2, 2)\n",
        "  x = F.relu(self.conv2(x))\n",
        "  x = F.max_pool2d(x, 2, 2)\n",
        "  x = x.view(-1, 4*4*50)\n",
        "  x = F.relu(self.fc1(x))\n",
        "  x = self.fc2(x)\n",
        "  return F.log_softmax(x, dim=1)\n",
        "\n",
        "\n",
        "Net.__init__ = __init__\n",
        "Net.forward = forward\n",
        "\n",
        "model = Net()\n",
        "print(model)\n",
        "\n",
        "\n",
        "\n",
        "\n",
        "\n",
        "\n"
      ],
      "metadata": {
        "id": "NI3t7Vh2yRaf"
      },
      "execution_count": null,
      "outputs": []
    },
    {
      "cell_type": "markdown",
      "source": [
        "learning to move model to cuda device"
      ],
      "metadata": {
        "id": "Qze4weTl1Omw"
      }
    },
    {
      "cell_type": "code",
      "source": [
        "device = torch.device(\"cuda:0\")\n",
        "model.to(device)\n",
        "print(next(model.parameters()).device)"
      ],
      "metadata": {
        "id": "IdkeU_oq1Suf"
      },
      "execution_count": null,
      "outputs": []
    },
    {
      "cell_type": "code",
      "source": [
        "from torchsummary\n",
        "summary(model, input_size=(1, 28, 28))"
      ],
      "metadata": {
        "id": "rTSvPGOS1bfp"
      },
      "execution_count": null,
      "outputs": []
    },
    {
      "cell_type": "markdown",
      "source": [
        "LOSS Function"
      ],
      "metadata": {
        "id": "f0DI0T0d4rGk"
      }
    },
    {
      "cell_type": "code",
      "source": [
        "#negative log-likelihood loos:\n",
        "loss_func = nn.NLLLoss()\n",
        "\n",
        "for xb, yb in train_dl:\n",
        " xb=xb.type(torch.float)\n",
        " yb=yb\n",
        " out=model(xb)\n",
        " loss = loss_func(out, yb)\n",
        " print (loss.item())\n",
        " break\n",
        "\n",
        "#calculate gradient\n",
        "loss.backward()\n"
      ],
      "metadata": {
        "id": "pruLNoXA4tZ5"
      },
      "execution_count": null,
      "outputs": []
    },
    {
      "cell_type": "markdown",
      "source": [
        "Defining the optimizer"
      ],
      "metadata": {
        "id": "iQUhkuuN43zL"
      }
    },
    {
      "cell_type": "code",
      "source": [
        "from torch import optim\n",
        "#input to the optimizer are model parameters and learning rate\n",
        "opt = optim.Adam(model.parameters(),lr=1e-4)\n",
        "#to automatically update the model parameters\n",
        "opt.step()\n",
        "#set the gradient to zero before calculating of next batch\n",
        "opt.zero_grad()\n"
      ],
      "metadata": {
        "id": "BOfodGrE46xh"
      },
      "execution_count": null,
      "outputs": []
    },
    {
      "cell_type": "markdown",
      "source": [
        "compute the loss value per mini-batch"
      ],
      "metadata": {
        "id": "4S0I4pH76L4I"
      }
    },
    {
      "cell_type": "code",
      "source": [
        "def loss_batch(loss_func, xb, yb,yb_h, opt=None):\n",
        "    # obtain loss\n",
        "      loss = loss_func(yb_h, yb)\n",
        "      # obtain performance metric\n",
        "      metric_b = metrics_batch(yb,yb_h)\n",
        "      if opt is not None:\n",
        "      loss.backward()\n",
        "      opt.step()\n",
        "      opt.zero_grad()\n",
        "      return loss.item(), metric_b"
      ],
      "metadata": {
        "id": "gyQ7VZLK5_1y"
      },
      "execution_count": null,
      "outputs": []
    },
    {
      "cell_type": "code",
      "source": [],
      "metadata": {
        "id": "AWSPktYH6Ne1"
      },
      "execution_count": null,
      "outputs": []
    }
  ]
}